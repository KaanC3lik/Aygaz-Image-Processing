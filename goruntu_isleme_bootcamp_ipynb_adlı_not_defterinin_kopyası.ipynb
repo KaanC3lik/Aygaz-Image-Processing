{
  "cells": [
    {
      "cell_type": "markdown",
      "metadata": {
        "id": "view-in-github",
        "colab_type": "text"
      },
      "source": [
        "<a href=\"https://colab.research.google.com/github/KaanC3lik/Aygaz-Image-Processing/blob/main/goruntu_isleme_bootcamp_ipynb_adl%C4%B1_not_defterinin_kopyas%C4%B1.ipynb\" target=\"_parent\"><img src=\"https://colab.research.google.com/assets/colab-badge.svg\" alt=\"Open In Colab\"/></a>"
      ]
    },
    {
      "source": [
        "# IMPORTANT: RUN THIS CELL IN ORDER TO IMPORT YOUR KAGGLE DATA SOURCES,\n",
        "# THEN FEEL FREE TO DELETE THIS CELL.\n",
        "# NOTE: THIS NOTEBOOK ENVIRONMENT DIFFERS FROM KAGGLE'S PYTHON\n",
        "# ENVIRONMENT SO THERE MAY BE MISSING LIBRARIES USED BY YOUR\n",
        "# NOTEBOOK.\n",
        "import kagglehub\n",
        "rrebirrth_animals_with_attributes_2_path = kagglehub.dataset_download('rrebirrth/animals-with-attributes-2')\n",
        "\n",
        "print('Data source import complete.')\n"
      ],
      "metadata": {
        "id": "MDGKTUZmCtsD",
        "outputId": "75d82351-4ed6-452d-db35-80f549a3bea7",
        "colab": {
          "base_uri": "https://localhost:8080/"
        }
      },
      "cell_type": "code",
      "outputs": [
        {
          "output_type": "stream",
          "name": "stdout",
          "text": [
            "Warning: Looks like you're using an outdated `kagglehub` version (installed: 0.3.5), please consider upgrading to the latest version (0.3.6).\n",
            "Downloading from https://www.kaggle.com/api/v1/datasets/download/rrebirrth/animals-with-attributes-2?dataset_version_number=1...\n"
          ]
        },
        {
          "output_type": "stream",
          "name": "stderr",
          "text": [
            "100%|██████████| 13.0G/13.0G [02:37<00:00, 88.2MB/s]"
          ]
        },
        {
          "output_type": "stream",
          "name": "stdout",
          "text": [
            "Extracting files...\n"
          ]
        },
        {
          "output_type": "stream",
          "name": "stderr",
          "text": [
            "\n"
          ]
        },
        {
          "output_type": "stream",
          "name": "stdout",
          "text": [
            "Data source import complete.\n"
          ]
        }
      ],
      "execution_count": 1
    },
    {
      "cell_type": "markdown",
      "source": [
        "I changed the code to save the first 650 images of each animal species."
      ],
      "metadata": {
        "id": "Z5WWIbr-0zgn"
      }
    },
    {
      "metadata": {
        "_uuid": "8f2839f25d086af736a60e9eeb907d3b93b6e0e5",
        "_cell_guid": "b1076dfc-b9ad-4769-8c92-a6c4dae69d19",
        "trusted": true,
        "id": "5FOPNGRFCtsD",
        "outputId": "83786c92-576e-47b6-bfa3-0951913bcb7e",
        "colab": {
          "base_uri": "https://localhost:8080/"
        }
      },
      "cell_type": "code",
      "source": [
        "import os\n",
        "\n",
        "# Initialize the dictionary to hold paths for each animal\n",
        "image_paths = {}\n",
        "\n",
        "# Base directory for your dataset\n",
        "base_path = \"/root/.cache/kagglehub/datasets/rrebirrth/animals-with-attributes-2/versions/1/Animals_with_Attributes2/JPEGImages/\"\n",
        "\n",
        "# List of animals to search for\n",
        "animals = [\"collie\", \"dolphin\", \"elephant\", \"fox\", \"moose\", \"rabbit\", \"sheep\", \"squirrel\", \"giant+panda\", \"polar+bear\"]\n",
        "\n",
        "# Traverse the directory structure\n",
        "for dirname, _, filenames in os.walk(base_path):\n",
        "    for animal in animals:\n",
        "        # Check if the current directory contains the animal's name\n",
        "        if animal in dirname:\n",
        "            # Initialize the list if the animal is encountered for the first time\n",
        "            if animal not in image_paths:\n",
        "                image_paths[animal] = []\n",
        "            # Add 650 image paths for the current animal\n",
        "            for filename in filenames:\n",
        "                if len(image_paths[animal]) < 650:\n",
        "                  image_paths[animal].append(os.path.join(dirname, filename))\n",
        "                else:\n",
        "                  break\n",
        "\n",
        "\n",
        "\n",
        "# Print the paths for verification\n",
        "for animal, paths in image_paths.items():\n",
        "    print(f\"{animal}: {len(paths)} images\")"
      ],
      "execution_count": 7,
      "outputs": [
        {
          "output_type": "stream",
          "name": "stdout",
          "text": [
            "giant+panda: 650 images\n",
            "elephant: 650 images\n",
            "polar+bear: 650 images\n",
            "rabbit: 650 images\n",
            "moose: 650 images\n",
            "dolphin: 650 images\n",
            "squirrel: 650 images\n",
            "fox: 650 images\n",
            "sheep: 650 images\n",
            "collie: 650 images\n"
          ]
        }
      ]
    },
    {
      "cell_type": "markdown",
      "source": [
        "The load_and_preprocess_images function is designed to handle image datasets organized by categories. It takes as input a dictionary of image paths categorized by class and a target size for resizing the images. Each image is read using OpenCV, resized to a uniform shape (64x64 pixels in this case), and normalized to scale pixel values to a range of [0, 1]. Normalization improves the training process by ensuring that all pixel values have the same scale, which can help the model converge faster."
      ],
      "metadata": {
        "id": "FmGSSP8lO3kC"
      }
    },
    {
      "cell_type": "code",
      "source": [
        "import cv2\n",
        "import numpy as np\n",
        "from sklearn.model_selection import train_test_split\n",
        "from tensorflow.keras.preprocessing.image import ImageDataGenerator\n",
        "\n",
        "# Define a function to load and preprocess images\n",
        "def load_and_preprocess_images(image_paths, image_size):\n",
        "    data = []\n",
        "    labels = []\n",
        "\n",
        "    for animal, paths in image_paths.items():\n",
        "        for img_path in paths:\n",
        "            img = cv2.imread(img_path)\n",
        "\n",
        "            # Normalize pixel values to the range [0, 1]\n",
        "            if img is not None:\n",
        "                img_resized = cv2.resize(img, image_size)\n",
        "                img_normalized = img_resized / 255.0\n",
        "                data.append(img_normalized)\n",
        "                labels.append(animal)\n",
        "\n",
        "    return np.array(data), np.array(labels)  # Convert lists to NumPy arrays and return"
      ],
      "metadata": {
        "id": "GiHpypVbbDeb"
      },
      "execution_count": 10,
      "outputs": []
    },
    {
      "cell_type": "code",
      "source": [
        "image_size = (64, 64)\n",
        "\n",
        "# Load and preprocess images using the specified image paths\n",
        "X, y = load_and_preprocess_images(image_paths, image_size)\n",
        "\n",
        "# Split the data into training and testing sets\n",
        "X_train, X_test, y_train, y_test = train_test_split(X, y, test_size=0.3, random_state=42)"
      ],
      "metadata": {
        "id": "7NhPACcduepo"
      },
      "execution_count": 11,
      "outputs": []
    },
    {
      "cell_type": "markdown",
      "source": [
        "A LabelEncoder is then used to convert the class labels (animal names) into numerical format, with one-hot encoding."
      ],
      "metadata": {
        "id": "M5kRtWwssIdZ"
      }
    },
    {
      "cell_type": "code",
      "source": [
        "from tensorflow.keras.utils import to_categorical\n",
        "from sklearn.preprocessing import LabelEncoder\n",
        "\n",
        "# Create a LabelEncoder to convert animal names to numerical labels\n",
        "label_encoder = LabelEncoder()\n",
        "label_encoder.fit(animals)\n",
        "\n",
        "# Transform y_train and y_test to numerical labels\n",
        "y_train_encoded = label_encoder.transform(y_train)\n",
        "y_test_encoded = label_encoder.transform(y_test)\n",
        "\n",
        "# One-hot encoding (Modelin kullanması için etiketleri dönüştür)\n",
        "y_train_onehot = to_categorical(y_train_encoded, num_classes=len(animals))\n",
        "y_test_onehot = to_categorical(y_test_encoded, num_classes=len(animals))\n"
      ],
      "metadata": {
        "id": "P_97O4XYuRKX"
      },
      "execution_count": 41,
      "outputs": []
    },
    {
      "cell_type": "markdown",
      "source": [
        "Initialized an image data generator for data augmentation.\n",
        "Data augmentation is performed using the ImageDataGenerator class, which applies random transformations such as rotations, translations, zooming, and horizontal flips to enhance the diversity of the training data."
      ],
      "metadata": {
        "id": "8hgbKs0quaom"
      }
    },
    {
      "cell_type": "code",
      "source": [
        "\n",
        "datagen = ImageDataGenerator(\n",
        "    rotation_range=20,\n",
        "    width_shift_range=0.1,\n",
        "    height_shift_range=0.1,\n",
        "    zoom_range=0.1,\n",
        "    horizontal_flip=True,\n",
        "    fill_mode=\"nearest\"\n",
        ")\n",
        "\n",
        "# Create a training data generator that applies data augmentation\n",
        "batch_size = 32\n",
        "train_generator = datagen.flow(X_train, y_train_onehot, batch_size=batch_size)\n",
        "\n",
        "\n",
        "for X_batch, y_batch in train_generator:\n",
        "    print(f\"A batch produced by data augmentation: {X_batch.shape}, Labels: {y_batch.shape}\")\n",
        "    break"
      ],
      "metadata": {
        "colab": {
          "base_uri": "https://localhost:8080/"
        },
        "id": "jarVXkEEdKto",
        "outputId": "7a6f658d-6c82-4fbd-e2e6-fce298021096"
      },
      "execution_count": 19,
      "outputs": [
        {
          "output_type": "stream",
          "name": "stdout",
          "text": [
            "A batch produced by data augmentation: (32, 64, 64, 3), Labels: (32, 10)\n"
          ]
        }
      ]
    },
    {
      "cell_type": "markdown",
      "source": [
        "\n",
        "\n",
        "\n",
        "*   This code defines a Convolutional Neural Network (CNN) architecture designed to classify images into 10 animal categories. The model begins with an input layer configured for images of size 64x64x3, which corresponds to RGB images.\n",
        "*    The first layer is a convolutional layer with 32 filters of size 3x3, followed by a ReLU activation function to introduce non-linearity. This layer is paired with a MaxPooling layer, which reduces the spatial dimensions of the feature maps while preserving their most important features.\n",
        "*   After the convolutional and pooling layers, the feature maps are flattened into a one-dimensional vector, allowing the data to pass into fully connected layers. A dense layer with 128 units and ReLU activation is used to further process the extracted features.\n",
        "*   To prevent overfitting, a Dropout layer with a rate of 0.5 is applied, randomly setting half of the neurons to zero during training.\n",
        "\n",
        "*    The final layer consists of 10 units (one for each animal class) with a softmax activation function, which converts the output into probabilities for each class.\n",
        "\n",
        "\n",
        "\n"
      ],
      "metadata": {
        "id": "4ZEDWu8otgdg"
      }
    },
    {
      "cell_type": "code",
      "source": [
        "from tensorflow.keras.models import Sequential\n",
        "from tensorflow.keras.layers import Conv2D, MaxPooling2D, Flatten, Dense, Dropout\n",
        "from tensorflow.keras.optimizers import Adam\n",
        "\n",
        "input_shape = (64, 64, 3) # Image size (height, width, channels)\n",
        "num_classes = 10 # For classification 10 classes\n",
        "conv_filters = 32 # Number of filters for convolution layers\n",
        "kernel_size = (3, 3) # Size of the convolution kernel\n",
        "pool_size = (2, 2) # Size of the pooling layer\n",
        "dense_units = 128 # Number of units in the fully connected layer\n",
        "learning_rate = 0.001 # Learning rate for the optimizer\n",
        "\n",
        "\n",
        "model = Sequential()\n",
        "\n",
        "# 1. Convolutional Layer\n",
        "model.add(Conv2D(conv_filters, kernel_size, activation='relu', input_shape=input_shape))\n",
        "model.add(MaxPooling2D(pool_size))  # 1. Pooling Layer\n",
        "\n",
        "# 2. Convolutional Layer\n",
        "model.add(Conv2D(conv_filters*2, kernel_size, activation='relu'))\n",
        "model.add(MaxPooling2D(pool_size))  # 2. Pooling Layer\n",
        "\n",
        "# 3. Convolutional Layer\n",
        "model.add(Conv2D(conv_filters*3, kernel_size, activation='relu'))\n",
        "model.add(MaxPooling2D(pool_size))  # 3. Pooling Layer\n",
        "\n",
        "# 4. Fully Connected Layer\n",
        "model.add(Flatten())\n",
        "model.add(Dense(128, activation='relu'))\n",
        "model.add(Dropout(0.5))\n",
        "\n",
        "# Output Layer\n",
        "model.add(Dense(len(animals), activation='softmax'))\n",
        "\n",
        "model.summary()\n"
      ],
      "metadata": {
        "colab": {
          "base_uri": "https://localhost:8080/",
          "height": 476
        },
        "id": "IyLc7nb6jLac",
        "outputId": "c1f481e1-bff1-42cc-fb92-2ce72b2b3fd3"
      },
      "execution_count": 21,
      "outputs": [
        {
          "output_type": "display_data",
          "data": {
            "text/plain": [
              "\u001b[1mModel: \"sequential_1\"\u001b[0m\n"
            ],
            "text/html": [
              "<pre style=\"white-space:pre;overflow-x:auto;line-height:normal;font-family:Menlo,'DejaVu Sans Mono',consolas,'Courier New',monospace\"><span style=\"font-weight: bold\">Model: \"sequential_1\"</span>\n",
              "</pre>\n"
            ]
          },
          "metadata": {}
        },
        {
          "output_type": "display_data",
          "data": {
            "text/plain": [
              "┏━━━━━━━━━━━━━━━━━━━━━━━━━━━━━━━━━━━━━━┳━━━━━━━━━━━━━━━━━━━━━━━━━━━━━┳━━━━━━━━━━━━━━━━━┓\n",
              "┃\u001b[1m \u001b[0m\u001b[1mLayer (type)                        \u001b[0m\u001b[1m \u001b[0m┃\u001b[1m \u001b[0m\u001b[1mOutput Shape               \u001b[0m\u001b[1m \u001b[0m┃\u001b[1m \u001b[0m\u001b[1m        Param #\u001b[0m\u001b[1m \u001b[0m┃\n",
              "┡━━━━━━━━━━━━━━━━━━━━━━━━━━━━━━━━━━━━━━╇━━━━━━━━━━━━━━━━━━━━━━━━━━━━━╇━━━━━━━━━━━━━━━━━┩\n",
              "│ conv2d_3 (\u001b[38;5;33mConv2D\u001b[0m)                    │ (\u001b[38;5;45mNone\u001b[0m, \u001b[38;5;34m62\u001b[0m, \u001b[38;5;34m62\u001b[0m, \u001b[38;5;34m32\u001b[0m)          │             \u001b[38;5;34m896\u001b[0m │\n",
              "├──────────────────────────────────────┼─────────────────────────────┼─────────────────┤\n",
              "│ max_pooling2d_3 (\u001b[38;5;33mMaxPooling2D\u001b[0m)       │ (\u001b[38;5;45mNone\u001b[0m, \u001b[38;5;34m31\u001b[0m, \u001b[38;5;34m31\u001b[0m, \u001b[38;5;34m32\u001b[0m)          │               \u001b[38;5;34m0\u001b[0m │\n",
              "├──────────────────────────────────────┼─────────────────────────────┼─────────────────┤\n",
              "│ conv2d_4 (\u001b[38;5;33mConv2D\u001b[0m)                    │ (\u001b[38;5;45mNone\u001b[0m, \u001b[38;5;34m29\u001b[0m, \u001b[38;5;34m29\u001b[0m, \u001b[38;5;34m64\u001b[0m)          │          \u001b[38;5;34m18,496\u001b[0m │\n",
              "├──────────────────────────────────────┼─────────────────────────────┼─────────────────┤\n",
              "│ max_pooling2d_4 (\u001b[38;5;33mMaxPooling2D\u001b[0m)       │ (\u001b[38;5;45mNone\u001b[0m, \u001b[38;5;34m14\u001b[0m, \u001b[38;5;34m14\u001b[0m, \u001b[38;5;34m64\u001b[0m)          │               \u001b[38;5;34m0\u001b[0m │\n",
              "├──────────────────────────────────────┼─────────────────────────────┼─────────────────┤\n",
              "│ conv2d_5 (\u001b[38;5;33mConv2D\u001b[0m)                    │ (\u001b[38;5;45mNone\u001b[0m, \u001b[38;5;34m12\u001b[0m, \u001b[38;5;34m12\u001b[0m, \u001b[38;5;34m96\u001b[0m)          │          \u001b[38;5;34m55,392\u001b[0m │\n",
              "├──────────────────────────────────────┼─────────────────────────────┼─────────────────┤\n",
              "│ max_pooling2d_5 (\u001b[38;5;33mMaxPooling2D\u001b[0m)       │ (\u001b[38;5;45mNone\u001b[0m, \u001b[38;5;34m6\u001b[0m, \u001b[38;5;34m6\u001b[0m, \u001b[38;5;34m96\u001b[0m)            │               \u001b[38;5;34m0\u001b[0m │\n",
              "├──────────────────────────────────────┼─────────────────────────────┼─────────────────┤\n",
              "│ flatten_1 (\u001b[38;5;33mFlatten\u001b[0m)                  │ (\u001b[38;5;45mNone\u001b[0m, \u001b[38;5;34m3456\u001b[0m)                │               \u001b[38;5;34m0\u001b[0m │\n",
              "├──────────────────────────────────────┼─────────────────────────────┼─────────────────┤\n",
              "│ dense_2 (\u001b[38;5;33mDense\u001b[0m)                      │ (\u001b[38;5;45mNone\u001b[0m, \u001b[38;5;34m128\u001b[0m)                 │         \u001b[38;5;34m442,496\u001b[0m │\n",
              "├──────────────────────────────────────┼─────────────────────────────┼─────────────────┤\n",
              "│ dropout_1 (\u001b[38;5;33mDropout\u001b[0m)                  │ (\u001b[38;5;45mNone\u001b[0m, \u001b[38;5;34m128\u001b[0m)                 │               \u001b[38;5;34m0\u001b[0m │\n",
              "├──────────────────────────────────────┼─────────────────────────────┼─────────────────┤\n",
              "│ dense_3 (\u001b[38;5;33mDense\u001b[0m)                      │ (\u001b[38;5;45mNone\u001b[0m, \u001b[38;5;34m10\u001b[0m)                  │           \u001b[38;5;34m1,290\u001b[0m │\n",
              "└──────────────────────────────────────┴─────────────────────────────┴─────────────────┘\n"
            ],
            "text/html": [
              "<pre style=\"white-space:pre;overflow-x:auto;line-height:normal;font-family:Menlo,'DejaVu Sans Mono',consolas,'Courier New',monospace\">┏━━━━━━━━━━━━━━━━━━━━━━━━━━━━━━━━━━━━━━┳━━━━━━━━━━━━━━━━━━━━━━━━━━━━━┳━━━━━━━━━━━━━━━━━┓\n",
              "┃<span style=\"font-weight: bold\"> Layer (type)                         </span>┃<span style=\"font-weight: bold\"> Output Shape                </span>┃<span style=\"font-weight: bold\">         Param # </span>┃\n",
              "┡━━━━━━━━━━━━━━━━━━━━━━━━━━━━━━━━━━━━━━╇━━━━━━━━━━━━━━━━━━━━━━━━━━━━━╇━━━━━━━━━━━━━━━━━┩\n",
              "│ conv2d_3 (<span style=\"color: #0087ff; text-decoration-color: #0087ff\">Conv2D</span>)                    │ (<span style=\"color: #00d7ff; text-decoration-color: #00d7ff\">None</span>, <span style=\"color: #00af00; text-decoration-color: #00af00\">62</span>, <span style=\"color: #00af00; text-decoration-color: #00af00\">62</span>, <span style=\"color: #00af00; text-decoration-color: #00af00\">32</span>)          │             <span style=\"color: #00af00; text-decoration-color: #00af00\">896</span> │\n",
              "├──────────────────────────────────────┼─────────────────────────────┼─────────────────┤\n",
              "│ max_pooling2d_3 (<span style=\"color: #0087ff; text-decoration-color: #0087ff\">MaxPooling2D</span>)       │ (<span style=\"color: #00d7ff; text-decoration-color: #00d7ff\">None</span>, <span style=\"color: #00af00; text-decoration-color: #00af00\">31</span>, <span style=\"color: #00af00; text-decoration-color: #00af00\">31</span>, <span style=\"color: #00af00; text-decoration-color: #00af00\">32</span>)          │               <span style=\"color: #00af00; text-decoration-color: #00af00\">0</span> │\n",
              "├──────────────────────────────────────┼─────────────────────────────┼─────────────────┤\n",
              "│ conv2d_4 (<span style=\"color: #0087ff; text-decoration-color: #0087ff\">Conv2D</span>)                    │ (<span style=\"color: #00d7ff; text-decoration-color: #00d7ff\">None</span>, <span style=\"color: #00af00; text-decoration-color: #00af00\">29</span>, <span style=\"color: #00af00; text-decoration-color: #00af00\">29</span>, <span style=\"color: #00af00; text-decoration-color: #00af00\">64</span>)          │          <span style=\"color: #00af00; text-decoration-color: #00af00\">18,496</span> │\n",
              "├──────────────────────────────────────┼─────────────────────────────┼─────────────────┤\n",
              "│ max_pooling2d_4 (<span style=\"color: #0087ff; text-decoration-color: #0087ff\">MaxPooling2D</span>)       │ (<span style=\"color: #00d7ff; text-decoration-color: #00d7ff\">None</span>, <span style=\"color: #00af00; text-decoration-color: #00af00\">14</span>, <span style=\"color: #00af00; text-decoration-color: #00af00\">14</span>, <span style=\"color: #00af00; text-decoration-color: #00af00\">64</span>)          │               <span style=\"color: #00af00; text-decoration-color: #00af00\">0</span> │\n",
              "├──────────────────────────────────────┼─────────────────────────────┼─────────────────┤\n",
              "│ conv2d_5 (<span style=\"color: #0087ff; text-decoration-color: #0087ff\">Conv2D</span>)                    │ (<span style=\"color: #00d7ff; text-decoration-color: #00d7ff\">None</span>, <span style=\"color: #00af00; text-decoration-color: #00af00\">12</span>, <span style=\"color: #00af00; text-decoration-color: #00af00\">12</span>, <span style=\"color: #00af00; text-decoration-color: #00af00\">96</span>)          │          <span style=\"color: #00af00; text-decoration-color: #00af00\">55,392</span> │\n",
              "├──────────────────────────────────────┼─────────────────────────────┼─────────────────┤\n",
              "│ max_pooling2d_5 (<span style=\"color: #0087ff; text-decoration-color: #0087ff\">MaxPooling2D</span>)       │ (<span style=\"color: #00d7ff; text-decoration-color: #00d7ff\">None</span>, <span style=\"color: #00af00; text-decoration-color: #00af00\">6</span>, <span style=\"color: #00af00; text-decoration-color: #00af00\">6</span>, <span style=\"color: #00af00; text-decoration-color: #00af00\">96</span>)            │               <span style=\"color: #00af00; text-decoration-color: #00af00\">0</span> │\n",
              "├──────────────────────────────────────┼─────────────────────────────┼─────────────────┤\n",
              "│ flatten_1 (<span style=\"color: #0087ff; text-decoration-color: #0087ff\">Flatten</span>)                  │ (<span style=\"color: #00d7ff; text-decoration-color: #00d7ff\">None</span>, <span style=\"color: #00af00; text-decoration-color: #00af00\">3456</span>)                │               <span style=\"color: #00af00; text-decoration-color: #00af00\">0</span> │\n",
              "├──────────────────────────────────────┼─────────────────────────────┼─────────────────┤\n",
              "│ dense_2 (<span style=\"color: #0087ff; text-decoration-color: #0087ff\">Dense</span>)                      │ (<span style=\"color: #00d7ff; text-decoration-color: #00d7ff\">None</span>, <span style=\"color: #00af00; text-decoration-color: #00af00\">128</span>)                 │         <span style=\"color: #00af00; text-decoration-color: #00af00\">442,496</span> │\n",
              "├──────────────────────────────────────┼─────────────────────────────┼─────────────────┤\n",
              "│ dropout_1 (<span style=\"color: #0087ff; text-decoration-color: #0087ff\">Dropout</span>)                  │ (<span style=\"color: #00d7ff; text-decoration-color: #00d7ff\">None</span>, <span style=\"color: #00af00; text-decoration-color: #00af00\">128</span>)                 │               <span style=\"color: #00af00; text-decoration-color: #00af00\">0</span> │\n",
              "├──────────────────────────────────────┼─────────────────────────────┼─────────────────┤\n",
              "│ dense_3 (<span style=\"color: #0087ff; text-decoration-color: #0087ff\">Dense</span>)                      │ (<span style=\"color: #00d7ff; text-decoration-color: #00d7ff\">None</span>, <span style=\"color: #00af00; text-decoration-color: #00af00\">10</span>)                  │           <span style=\"color: #00af00; text-decoration-color: #00af00\">1,290</span> │\n",
              "└──────────────────────────────────────┴─────────────────────────────┴─────────────────┘\n",
              "</pre>\n"
            ]
          },
          "metadata": {}
        },
        {
          "output_type": "display_data",
          "data": {
            "text/plain": [
              "\u001b[1m Total params: \u001b[0m\u001b[38;5;34m518,570\u001b[0m (1.98 MB)\n"
            ],
            "text/html": [
              "<pre style=\"white-space:pre;overflow-x:auto;line-height:normal;font-family:Menlo,'DejaVu Sans Mono',consolas,'Courier New',monospace\"><span style=\"font-weight: bold\"> Total params: </span><span style=\"color: #00af00; text-decoration-color: #00af00\">518,570</span> (1.98 MB)\n",
              "</pre>\n"
            ]
          },
          "metadata": {}
        },
        {
          "output_type": "display_data",
          "data": {
            "text/plain": [
              "\u001b[1m Trainable params: \u001b[0m\u001b[38;5;34m518,570\u001b[0m (1.98 MB)\n"
            ],
            "text/html": [
              "<pre style=\"white-space:pre;overflow-x:auto;line-height:normal;font-family:Menlo,'DejaVu Sans Mono',consolas,'Courier New',monospace\"><span style=\"font-weight: bold\"> Trainable params: </span><span style=\"color: #00af00; text-decoration-color: #00af00\">518,570</span> (1.98 MB)\n",
              "</pre>\n"
            ]
          },
          "metadata": {}
        },
        {
          "output_type": "display_data",
          "data": {
            "text/plain": [
              "\u001b[1m Non-trainable params: \u001b[0m\u001b[38;5;34m0\u001b[0m (0.00 B)\n"
            ],
            "text/html": [
              "<pre style=\"white-space:pre;overflow-x:auto;line-height:normal;font-family:Menlo,'DejaVu Sans Mono',consolas,'Courier New',monospace\"><span style=\"font-weight: bold\"> Non-trainable params: </span><span style=\"color: #00af00; text-decoration-color: #00af00\">0</span> (0.00 B)\n",
              "</pre>\n"
            ]
          },
          "metadata": {}
        }
      ]
    },
    {
      "cell_type": "markdown",
      "source": [
        "*   The optimizer is set to Adam with a learning rate of 0.001.\n",
        "Adam is an adaptive learning rate optimization algorithm that computes individual learning rates for each parameter, which generally leads to faster convergence.\n",
        "*   Choosed Categorical cross-entropy for loss function. Because it is commonly used for multi-class classification problems where the labels are one-hot encoded\n",
        "\n"
      ],
      "metadata": {
        "id": "kmELKzva7SYh"
      }
    },
    {
      "cell_type": "code",
      "source": [
        "model.compile(optimizer=Adam(learning_rate=0.001),\n",
        "              loss='categorical_crossentropy',\n",
        "              metrics=['accuracy'])"
      ],
      "metadata": {
        "id": "yl4Vp36anPn8"
      },
      "execution_count": 22,
      "outputs": []
    },
    {
      "cell_type": "markdown",
      "source": [
        "Trained the model with augmented data in 20 epoch. Model's accuracy is 0.66"
      ],
      "metadata": {
        "id": "59JLMO7e7cUr"
      }
    },
    {
      "cell_type": "code",
      "source": [
        "# Modeli eğitme\n",
        "epochs = 20  # Eğitim adım sayısı (epoch)\n",
        "\n",
        "history = model.fit(train_generator,\n",
        "                    steps_per_epoch=len(X_train) // batch_size,\n",
        "                    epochs=epochs,\n",
        "                    validation_data=(X_test, y_test_onehot))  # Validation data kullanarak değerlendirme\n"
      ],
      "metadata": {
        "colab": {
          "base_uri": "https://localhost:8080/"
        },
        "id": "QINyQMe_nSSI",
        "outputId": "d1b71c80-7bd0-4102-d272-a609f5592b63"
      },
      "execution_count": 24,
      "outputs": [
        {
          "output_type": "stream",
          "name": "stdout",
          "text": [
            "Epoch 1/20\n",
            "\u001b[1m142/142\u001b[0m \u001b[32m━━━━━━━━━━━━━━━━━━━━\u001b[0m\u001b[37m\u001b[0m \u001b[1m38s\u001b[0m 266ms/step - accuracy: 0.4736 - loss: 1.5089 - val_accuracy: 0.5621 - val_loss: 1.2959\n",
            "Epoch 2/20\n",
            "\u001b[1m142/142\u001b[0m \u001b[32m━━━━━━━━━━━━━━━━━━━━\u001b[0m\u001b[37m\u001b[0m \u001b[1m5s\u001b[0m 36ms/step - accuracy: 0.5000 - loss: 1.4741 - val_accuracy: 0.5677 - val_loss: 1.2744\n",
            "Epoch 3/20\n",
            "\u001b[1m142/142\u001b[0m \u001b[32m━━━━━━━━━━━━━━━━━━━━\u001b[0m\u001b[37m\u001b[0m \u001b[1m77s\u001b[0m 267ms/step - accuracy: 0.4950 - loss: 1.4681 - val_accuracy: 0.5733 - val_loss: 1.2332\n",
            "Epoch 4/20\n",
            "\u001b[1m142/142\u001b[0m \u001b[32m━━━━━━━━━━━━━━━━━━━━\u001b[0m\u001b[37m\u001b[0m \u001b[1m5s\u001b[0m 30ms/step - accuracy: 0.4375 - loss: 1.5893 - val_accuracy: 0.5656 - val_loss: 1.2399\n",
            "Epoch 5/20\n",
            "\u001b[1m142/142\u001b[0m \u001b[32m━━━━━━━━━━━━━━━━━━━━\u001b[0m\u001b[37m\u001b[0m \u001b[1m79s\u001b[0m 280ms/step - accuracy: 0.4878 - loss: 1.4407 - val_accuracy: 0.5928 - val_loss: 1.2235\n",
            "Epoch 6/20\n",
            "\u001b[1m142/142\u001b[0m \u001b[32m━━━━━━━━━━━━━━━━━━━━\u001b[0m\u001b[37m\u001b[0m \u001b[1m3s\u001b[0m 21ms/step - accuracy: 0.5312 - loss: 1.5584 - val_accuracy: 0.5856 - val_loss: 1.2121\n",
            "Epoch 7/20\n",
            "\u001b[1m142/142\u001b[0m \u001b[32m━━━━━━━━━━━━━━━━━━━━\u001b[0m\u001b[37m\u001b[0m \u001b[1m40s\u001b[0m 281ms/step - accuracy: 0.5462 - loss: 1.3583 - val_accuracy: 0.6174 - val_loss: 1.1355\n",
            "Epoch 8/20\n",
            "\u001b[1m142/142\u001b[0m \u001b[32m━━━━━━━━━━━━━━━━━━━━\u001b[0m\u001b[37m\u001b[0m \u001b[1m3s\u001b[0m 21ms/step - accuracy: 0.4375 - loss: 1.4246 - val_accuracy: 0.6205 - val_loss: 1.1218\n",
            "Epoch 9/20\n",
            "\u001b[1m142/142\u001b[0m \u001b[32m━━━━━━━━━━━━━━━━━━━━\u001b[0m\u001b[37m\u001b[0m \u001b[1m78s\u001b[0m 277ms/step - accuracy: 0.5442 - loss: 1.3254 - val_accuracy: 0.6021 - val_loss: 1.1746\n",
            "Epoch 10/20\n",
            "\u001b[1m142/142\u001b[0m \u001b[32m━━━━━━━━━━━━━━━━━━━━\u001b[0m\u001b[37m\u001b[0m \u001b[1m3s\u001b[0m 21ms/step - accuracy: 0.4375 - loss: 1.3364 - val_accuracy: 0.5944 - val_loss: 1.1846\n",
            "Epoch 11/20\n",
            "\u001b[1m142/142\u001b[0m \u001b[32m━━━━━━━━━━━━━━━━━━━━\u001b[0m\u001b[37m\u001b[0m \u001b[1m40s\u001b[0m 277ms/step - accuracy: 0.5547 - loss: 1.3009 - val_accuracy: 0.6133 - val_loss: 1.1545\n",
            "Epoch 12/20\n",
            "\u001b[1m142/142\u001b[0m \u001b[32m━━━━━━━━━━━━━━━━━━━━\u001b[0m\u001b[37m\u001b[0m \u001b[1m3s\u001b[0m 21ms/step - accuracy: 0.4375 - loss: 1.6496 - val_accuracy: 0.6118 - val_loss: 1.1578\n",
            "Epoch 13/20\n",
            "\u001b[1m142/142\u001b[0m \u001b[32m━━━━━━━━━━━━━━━━━━━━\u001b[0m\u001b[37m\u001b[0m \u001b[1m79s\u001b[0m 279ms/step - accuracy: 0.5483 - loss: 1.2852 - val_accuracy: 0.6262 - val_loss: 1.0942\n",
            "Epoch 14/20\n",
            "\u001b[1m142/142\u001b[0m \u001b[32m━━━━━━━━━━━━━━━━━━━━\u001b[0m\u001b[37m\u001b[0m \u001b[1m3s\u001b[0m 21ms/step - accuracy: 0.4375 - loss: 1.2137 - val_accuracy: 0.6349 - val_loss: 1.0911\n",
            "Epoch 15/20\n",
            "\u001b[1m142/142\u001b[0m \u001b[32m━━━━━━━━━━━━━━━━━━━━\u001b[0m\u001b[37m\u001b[0m \u001b[1m79s\u001b[0m 280ms/step - accuracy: 0.5757 - loss: 1.2594 - val_accuracy: 0.6477 - val_loss: 1.0403\n",
            "Epoch 16/20\n",
            "\u001b[1m142/142\u001b[0m \u001b[32m━━━━━━━━━━━━━━━━━━━━\u001b[0m\u001b[37m\u001b[0m \u001b[1m3s\u001b[0m 21ms/step - accuracy: 0.6562 - loss: 1.0433 - val_accuracy: 0.6472 - val_loss: 1.0428\n",
            "Epoch 17/20\n",
            "\u001b[1m142/142\u001b[0m \u001b[32m━━━━━━━━━━━━━━━━━━━━\u001b[0m\u001b[37m\u001b[0m \u001b[1m40s\u001b[0m 279ms/step - accuracy: 0.5866 - loss: 1.2036 - val_accuracy: 0.6400 - val_loss: 1.0209\n",
            "Epoch 18/20\n",
            "\u001b[1m142/142\u001b[0m \u001b[32m━━━━━━━━━━━━━━━━━━━━\u001b[0m\u001b[37m\u001b[0m \u001b[1m3s\u001b[0m 21ms/step - accuracy: 0.8125 - loss: 0.7552 - val_accuracy: 0.6385 - val_loss: 1.0379\n",
            "Epoch 19/20\n",
            "\u001b[1m142/142\u001b[0m \u001b[32m━━━━━━━━━━━━━━━━━━━━\u001b[0m\u001b[37m\u001b[0m \u001b[1m40s\u001b[0m 278ms/step - accuracy: 0.5917 - loss: 1.2125 - val_accuracy: 0.6615 - val_loss: 1.0074\n",
            "Epoch 20/20\n",
            "\u001b[1m142/142\u001b[0m \u001b[32m━━━━━━━━━━━━━━━━━━━━\u001b[0m\u001b[37m\u001b[0m \u001b[1m3s\u001b[0m 21ms/step - accuracy: 0.5312 - loss: 1.2693 - val_accuracy: 0.6646 - val_loss: 0.9982\n"
          ]
        }
      ]
    },
    {
      "cell_type": "code",
      "source": [
        "def linearize_image(image):\n",
        "    \"\"\"\n",
        "    Converts an sRGB image to linear RGB assuming the input image is in the range [0, 1]\n",
        "    \"\"\"\n",
        "    return np.where(image <= 0.04045,\n",
        "                    image / 12.92,\n",
        "                    ((image + 0.055) / 1.055) ** 2.4)\n",
        "\n",
        "\n",
        "def linear_to_srgb(image):\n",
        "    \"\"\"\n",
        "    Converts a linear RGB image to sRGB assuming the input image is in the range [0, 1]\n",
        "    \"\"\"\n",
        "    return np.where(image <= 0.0031308,\n",
        "                    image * 12.92,\n",
        "                    1.055 * (image ** (1 / 2.4)) - 0.055)\n",
        "\n",
        "\n",
        "def handle_saturation(image, lower=0.05, upper=0.95):\n",
        "    \"\"\"\n",
        "    Creates a mask for non-saturated pixels (those between `lower` and `upper` thresholds)\n",
        "    \"\"\"\n",
        "    return np.all((image > lower) & (image < upper), axis=-1)\n",
        "\n",
        "\n",
        "\n",
        "### Color constancy\n",
        "def estimate_light_source_grey_world(image, mask):\n",
        "    \"\"\"\n",
        "    Estimates the light source based on the Grey World assumption, using valid pixels from the mask\n",
        "    \"\"\"\n",
        "    valid_pixels = image[mask]\n",
        "    avg_color = np.mean(valid_pixels, axis=0)\n",
        "    return avg_color / np.linalg.norm(avg_color)\n",
        "\n",
        "\n",
        "def correct_colors(image, light_source):\n",
        "    \"\"\"\n",
        "    Corrects the colors of the image by applying white balance using the estimated light source\n",
        "    \"\"\"\n",
        "    return image * (1.0 / light_source)\n",
        "\n",
        "\n",
        "def manipulate_light_source(image, light_color):\n",
        "    \"\"\"\n",
        "    Simulates color manipulation under a different light source\n",
        "\n",
        "    Args:\n",
        "    - image: The input image (sRGB, [0, 1])\n",
        "    - light_color: The light source color (unit norm RGB vector)\n",
        "\n",
        "    Returns:\n",
        "    - Manipulated image (sRGB, [0, 1])\n",
        "    \"\"\"\n",
        "    # Step 1: Linearize the image\n",
        "    linear_image = linearize_image(image)\n",
        "\n",
        "    # Step 2: Apply the light source (multiplying the linear image by the light color)\n",
        "    manipulated_image = linear_image * light_color\n",
        "\n",
        "    # Step 3: Convert the manipulated image back to sRGB\n",
        "    manipulated_srgb = linear_to_srgb(manipulated_image)\n",
        "\n",
        "    return np.clip(manipulated_srgb, 0, 1)\n",
        "\n",
        "\n",
        "def process_and_white_balance(image):\n",
        "    \"\"\"\n",
        "    Applies white balance using both the Grey World and Max RGB methods\n",
        "    Returns both corrected images in sRGB format\n",
        "    \"\"\"\n",
        "    linear_image = linearize_image(image)\n",
        "    valid_mask = handle_saturation(linear_image)\n",
        "\n",
        "    # Light source estimations\n",
        "    grey_world_light = estimate_light_source_grey_world(linear_image, valid_mask)\n",
        "\n",
        "    # Color correction using both light sources\n",
        "    corrected_grey_world = correct_colors(linear_image, grey_world_light)\n",
        "\n",
        "    # Convert back to sRGB\n",
        "    srgb_grey_world = linear_to_srgb(corrected_grey_world)\n",
        "\n",
        "    # Clip and return\n",
        "    return np.clip(srgb_grey_world, 0, 1)\n",
        "\n",
        "\n",
        "# Light sources for color manipulation\n",
        "def get_light_sources():\n",
        "    \"\"\"\n",
        "    Returns a set of light sources for image manipulation\n",
        "    \"\"\"\n",
        "    purplish_light = np.array([0.82, 0.15, 0.89]) / np.linalg.norm([0.82, 0.15, 0.89])\n",
        "    yellowish_light = np.array([0.96, 0.24, 0.11]) / np.linalg.norm([0.96, 0.24, 0.11])\n",
        "    greenish_light = np.array([0.11, 0.98, 0.12]) / np.linalg.norm([0.11, 0.98, 0.12])\n",
        "    return purplish_light, yellowish_light, greenish_light\n",
        "\n",
        "\n",
        "def get_wb_images(image):\n",
        "    \"\"\"\n",
        "    Process and white balance the image\n",
        "    \"\"\"\n",
        "\n",
        "    srgb_grey_world = process_and_white_balance(image)\n",
        "\n",
        "    # Save the white-balanced images\n",
        "    #cv2.imwrite('white_balanced_grey_world.jpg', cv2.cvtColor((srgb_grey_world*255).astype(np.uint8), cv2.COLOR_RGB2BGR))\n",
        "    return srgb_grey_world\n",
        "\n",
        "\n",
        "def get_manipulated_images(image):\n",
        "    \"\"\"\n",
        "    Get manipulated images by applying color vectors\n",
        "    \"\"\"\n",
        "\n",
        "    # Get the color vectors\n",
        "    purplish_light, orangish_light, greenish_light = get_light_sources()\n",
        "\n",
        "    # Manipulate the images under different light sources\n",
        "    manipulated_purplish = manipulate_light_source(image, purplish_light)\n",
        "    manipulated_orangish = manipulate_light_source(image, orangish_light)\n",
        "    manipulated_greenish = manipulate_light_source(image, greenish_light)\n",
        "\n",
        "    # Save the manipulated images\n",
        "    #cv2.imwrite('manipulated_purplish.jpg', cv2.cvtColor((manipulated_purplish*255).astype(np.uint8), cv2.COLOR_RGB2BGR))\n",
        "    #cv2.imwrite('manipulated_orangish.jpg', cv2.cvtColor((manipulated_orangish*255).astype(np.uint8), cv2.COLOR_RGB2BGR))\n",
        "    #cv2.imwrite('manipulated_greenish.jpg', cv2.cvtColor((manipulated_greenish*255).astype(np.uint8), cv2.COLOR_RGB2BGR))\n",
        "    return manipulated_purplish, manipulated_orangish, manipulated_greenish\n"
      ],
      "metadata": {
        "id": "Xa1Ms2SFojrP"
      },
      "execution_count": 27,
      "outputs": []
    },
    {
      "cell_type": "markdown",
      "source": [
        "The code manipulates the test images by applying three different color filters (purplish, orangish, and greenish) to each image in the test set. For each manipulated image, the corresponding label is repeated, and the new images are added to the test set. After manipulation, the new test set and labels are returned as NumPy array."
      ],
      "metadata": {
        "id": "zet33CXv9kQl"
      }
    },
    {
      "cell_type": "code",
      "source": [
        "def manipulate_test_images(X_test, y_test):\n",
        "\n",
        "    manipulated_test_set = []\n",
        "    manipulated_labels = []\n",
        "\n",
        "    for img, label in zip(X_test, y_test_onehot):\n",
        "        # Get manipulated images\n",
        "        manipulated_purplish, manipulated_orangish, manipulated_greenish = get_manipulated_images(img)\n",
        "\n",
        "        # Add manipulted images in dictionary with it's labels\n",
        "        manipulated_test_set.extend([manipulated_purplish, manipulated_orangish, manipulated_greenish])\n",
        "        manipulated_labels.extend([label, label, label])\n",
        "\n",
        "    return np.array(manipulated_test_set), np.array(manipulated_labels)\n",
        "\n",
        "\n",
        "manipulated_test_set, manipulated_labels = manipulate_test_images(X_test, y_test)\n",
        "\n",
        "print(f\"Manipulated test set size: {manipulated_test_set.shape}\")\n",
        "print(f\"Manipulated label size: {manipulated_labels.shape}\")"
      ],
      "metadata": {
        "colab": {
          "base_uri": "https://localhost:8080/"
        },
        "id": "9fI66-hesMBT",
        "outputId": "bd81dde5-22da-43cd-abb4-d5a8aba5d199"
      },
      "execution_count": 42,
      "outputs": [
        {
          "output_type": "stream",
          "name": "stdout",
          "text": [
            "Manipulated test set size: (5850, 64, 64, 3)\n",
            "Manipulated label size: (5850, 10)\n"
          ]
        }
      ]
    },
    {
      "cell_type": "markdown",
      "source": [
        "Evaluating new manipulated images with our model. After manipulating images our model's new accuracy is 0.16. So our model is failed at predicting animals when image color is manipulated. Model's accuracy decreased from 0.66 to 0.16."
      ],
      "metadata": {
        "id": "BXvL2BLe_yKY"
      }
    },
    {
      "cell_type": "code",
      "source": [
        "# Manipulate test images\n",
        "manipulated_test_set, manipulated_labels = manipulate_test_images(X_test, y_test)\n",
        "\n",
        "# Evaluate model\n",
        "loss, accuracy = model.evaluate(manipulated_test_set, manipulated_labels_onehot, verbose=1)\n",
        "\n",
        "print(f\"Manipüle edilmiş test seti üzerindeki kayıp (loss): {loss}\")\n",
        "print(f\"Manipüle edilmiş test seti üzerindeki doğruluk (accuracy): {accuracy}\")\n"
      ],
      "metadata": {
        "colab": {
          "base_uri": "https://localhost:8080/"
        },
        "id": "tmAeNOxcxZOL",
        "outputId": "08db0d87-1c7e-42a4-d1a9-a77049461945"
      },
      "execution_count": 37,
      "outputs": [
        {
          "output_type": "stream",
          "name": "stdout",
          "text": [
            "\u001b[1m183/183\u001b[0m \u001b[32m━━━━━━━━━━━━━━━━━━━━\u001b[0m\u001b[37m\u001b[0m \u001b[1m11s\u001b[0m 59ms/step - accuracy: 0.1646 - loss: 5.0438\n",
            "Manipüle edilmiş test seti üzerindeki kayıp (loss): 5.03700065612793\n",
            "Manipüle edilmiş test seti üzerindeki doğruluk (accuracy): 0.1688888818025589\n"
          ]
        }
      ]
    },
    {
      "cell_type": "markdown",
      "source": [
        "To overcame our model's reliance on color, applied color correction. Now model's accuracy is back to it's original level 0.66. My inference is, color correciton method is crucial part of image processing."
      ],
      "metadata": {
        "id": "bdQLxUoTsAGZ"
      }
    },
    {
      "cell_type": "code",
      "source": [
        "def apply_color_correction(manipulated_test_set):\n",
        "    corrected_images = []\n",
        "\n",
        "    for image in manipulated_test_set:\n",
        "        corrected_image = get_wb_images(image)\n",
        "        corrected_images.append(corrected_image)\n",
        "\n",
        "    return np.array(corrected_images)\n",
        "\n",
        "# Test setindeki manipüle edilmiş resimleri renk sabitlemesi ile düzeltme\n",
        "manipulated_test_corrected = apply_color_correction(manipulated_test_set)\n",
        "\n",
        "# Modeli manipüle edilmiş test setiyle değerlendir\n",
        "loss, accuracy = model.evaluate(manipulated_test_corrected, manipulated_labels_onehot, verbose=1)\n",
        "\n",
        "# Sonuçları yazdır\n",
        "print(f\"Manipüle edilmiş test seti üzerindeki kayıp (loss): {loss}\")\n",
        "print(f\"Manipüle edilmiş test seti üzerindeki doğruluk (accuracy): {accuracy}\")"
      ],
      "metadata": {
        "colab": {
          "base_uri": "https://localhost:8080/"
        },
        "id": "UTZ-Bqc77cM4",
        "outputId": "58ef615c-09c1-454b-f911-a0becad0cf7e"
      },
      "execution_count": 38,
      "outputs": [
        {
          "output_type": "stream",
          "name": "stderr",
          "text": [
            "/usr/local/lib/python3.10/dist-packages/numpy/core/fromnumeric.py:3504: RuntimeWarning: Mean of empty slice.\n",
            "  return _methods._mean(a, axis=axis, dtype=dtype,\n",
            "/usr/local/lib/python3.10/dist-packages/numpy/core/_methods.py:121: RuntimeWarning: invalid value encountered in divide\n",
            "  ret = um.true_divide(\n"
          ]
        },
        {
          "output_type": "stream",
          "name": "stdout",
          "text": [
            "\u001b[1m183/183\u001b[0m \u001b[32m━━━━━━━━━━━━━━━━━━━━\u001b[0m\u001b[37m\u001b[0m \u001b[1m11s\u001b[0m 61ms/step - accuracy: 0.6376 - loss: 1.0816\n",
            "Manipüle edilmiş test seti üzerindeki kayıp (loss): 1.0614460706710815\n",
            "Manipüle edilmiş test seti üzerindeki doğruluk (accuracy): 0.642393171787262\n"
          ]
        }
      ]
    },
    {
      "cell_type": "markdown",
      "source": [
        "Image processing models could be sensitive to image color manipulations, and using techniques like color correction can help mitigate this issue and bring the performance back to normal."
      ],
      "metadata": {
        "id": "IvE-lgfjE_3l"
      }
    },
    {
      "cell_type": "code",
      "source": [
        "import matplotlib.pyplot as plt\n",
        "\n",
        "# Accuracy values for different stages\n",
        "accuracies = [0.66, 0.16, 0.66]\n",
        "labels = ['Original Test Set', 'Manipulated Test Set', 'Manipulated & Corrected Test Set']\n",
        "\n",
        "# Create a bar plot\n",
        "plt.figure(figsize=(8,6))\n",
        "plt.bar(labels, accuracies, color=['blue', 'red', 'green'])\n",
        "\n",
        "# Add title and labels\n",
        "plt.title('Model Accuracy at Different Stages')\n",
        "plt.xlabel('Test Set Type')\n",
        "plt.ylabel('Accuracy')\n",
        "\n",
        "# Show the plot\n",
        "plt.show()\n"
      ],
      "metadata": {
        "id": "ANJuVaq982Xq",
        "colab": {
          "base_uri": "https://localhost:8080/",
          "height": 564
        },
        "outputId": "85b3a6d0-8947-435d-d324-dc613f299275"
      },
      "execution_count": 39,
      "outputs": [
        {
          "output_type": "display_data",
          "data": {
            "text/plain": [
              "<Figure size 800x600 with 1 Axes>"
            ],
            "image/png": "[encoded data removed]"
          },
          "metadata": {}
        }
      ]
    }
  ],
  "metadata": {
    "kernelspec": {
      "language": "python",
      "display_name": "Python 3",
      "name": "python3"
    },
    "language_info": {
      "pygments_lexer": "ipython3",
      "nbconvert_exporter": "python",
      "version": "3.6.4",
      "file_extension": ".py",
      "codemirror_mode": {
        "name": "ipython",
        "version": 3
      },
      "name": "python",
      "mimetype": "text/x-python"
    },
    "colab": {
      "provenance": [],
      "include_colab_link": true
    }
  },
  "nbformat": 4,
  "nbformat_minor": 0
}